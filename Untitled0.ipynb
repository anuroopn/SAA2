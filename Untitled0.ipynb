{
  "nbformat": 4,
  "nbformat_minor": 0,
  "metadata": {
    "colab": {
      "provenance": [],
      "authorship_tag": "ABX9TyNH/mEL787I22D4FRFxdqVC",
      "include_colab_link": true
    },
    "kernelspec": {
      "name": "python3",
      "display_name": "Python 3"
    },
    "language_info": {
      "name": "python"
    }
  },
  "cells": [
    {
      "cell_type": "markdown",
      "metadata": {
        "id": "view-in-github",
        "colab_type": "text"
      },
      "source": [
        "<a href=\"https://colab.research.google.com/github/anuroopn/SAA2/blob/main/Untitled0.ipynb\" target=\"_parent\"><img src=\"https://colab.research.google.com/assets/colab-badge.svg\" alt=\"Open In Colab\"/></a>"
      ]
    },
    {
      "cell_type": "code",
      "execution_count": 18,
      "metadata": {
        "colab": {
          "base_uri": "https://localhost:8080/"
        },
        "id": "uB7B6T00WXZx",
        "outputId": "23c3711f-a9c5-468f-c2c4-cc0f23b3c679"
      },
      "outputs": [
        {
          "output_type": "stream",
          "name": "stdout",
          "text": [
            "enter your nameffgkj\n",
            "enter your student ID1233\n",
            "enter your addressdfhj\n",
            "hi,your name ffgkj and your student Id is 1233 and your address isdfhj\n"
          ]
        }
      ],
      "source": [
        "name =input(\"enter your name\")\n",
        "StudentID=input(\"enter your student ID\")\n",
        "address =input(\"enter your address\")\n",
        "print (\"hi,your name \" + name +  \" and your student Id is \" + StudentID + \" and your address is\" + address)\n"
      ]
    }
  ]
}