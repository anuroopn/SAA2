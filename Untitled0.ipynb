{
  "nbformat": 4,
  "nbformat_minor": 0,
  "metadata": {
    "colab": {
      "provenance": [],
      "authorship_tag": "ABX9TyMe12Glzbecc7tH4ynAlqaC",
      "include_colab_link": true
    },
    "kernelspec": {
      "name": "python3",
      "display_name": "Python 3"
    },
    "language_info": {
      "name": "python"
    }
  },
  "cells": [
    {
      "cell_type": "markdown",
      "metadata": {
        "id": "view-in-github",
        "colab_type": "text"
      },
      "source": [
        "<a href=\"https://colab.research.google.com/github/anuroopn/SAA2/blob/main/Untitled0.ipynb\" target=\"_parent\"><img src=\"https://colab.research.google.com/assets/colab-badge.svg\" alt=\"Open In Colab\"/></a>"
      ]
    },
    {
      "cell_type": "code",
      "execution_count": 16,
      "metadata": {
        "colab": {
          "base_uri": "https://localhost:8080/"
        },
        "id": "uB7B6T00WXZx",
        "outputId": "932f9122-0c77-4b0d-98f7-26472fcf5e99"
      },
      "outputs": [
        {
          "output_type": "stream",
          "name": "stdout",
          "text": [
            "enter your namedfg\n",
            "enter your student ID2123\n",
            "hi,your name dfg and your student Id is 2123\n"
          ]
        }
      ],
      "source": [
        "name =input(\"enter your name\")\n",
        "StudentID=input(\"enter your student ID\")\n",
        "print (\"hi,your name \" + name +  \" and your student Id is \" + StudentID)\n"
      ]
    }
  ]
}